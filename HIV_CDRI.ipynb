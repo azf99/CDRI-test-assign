{
  "nbformat": 4,
  "nbformat_minor": 0,
  "metadata": {
    "colab": {
      "name": "HIV CDRI.ipynb",
      "version": "0.3.2",
      "provenance": [],
      "collapsed_sections": []
    },
    "kernelspec": {
      "name": "python3",
      "display_name": "Python 3"
    }
  },
  "cells": [
    {
      "cell_type": "markdown",
      "metadata": {
        "id": "FfI0hwbGyv67",
        "colab_type": "text"
      },
      "source": [
        "# **Scraping news articles from the Times of India(TOI) website and analysing them using the python libraries `nltk` and `textblob`**\n"
      ]
    },
    {
      "cell_type": "markdown",
      "metadata": {
        "id": "f8PfDVAHzd4E",
        "colab_type": "text"
      },
      "source": [
        "First we will be axtracting all the news articles from the website www.timesofindia.indiatimes.com/HIV/news on the basis of the following:\n",
        "\n",
        "\n",
        "\n",
        "*   Headline\n",
        "*   Published Date\n",
        "*   Author\n",
        "*   News\n",
        "*   Their URLs\n",
        "\n",
        "\n",
        "**Installing and Importing all the required libraries**"
      ]
    },
    {
      "cell_type": "code",
      "metadata": {
        "id": "ReliVMmd1DBa",
        "colab_type": "code",
        "colab": {
          "base_uri": "https://localhost:8080/",
          "height": 1235
        },
        "outputId": "b49cae56-62e6-4a40-b08d-4587c795bd11"
      },
      "source": [
        "!pip install selenium\n",
        "!pip install bs4\n",
        "!pip install requests\n",
        "!pip3 install newspaper3k\n",
        "!pip install nltk\n",
        "!pip install textblob\n",
        "!pip install sklearn"
      ],
      "execution_count": 5,
      "outputs": [
        {
          "output_type": "stream",
          "text": [
            "Collecting selenium\n",
            "\u001b[?25l  Downloading https://files.pythonhosted.org/packages/80/d6/4294f0b4bce4de0abf13e17190289f9d0613b0a44e5dd6a7f5ca98459853/selenium-3.141.0-py2.py3-none-any.whl (904kB)\n",
            "\u001b[K     |████████████████████████████████| 911kB 4.4MB/s \n",
            "\u001b[?25hRequirement already satisfied: urllib3 in /usr/local/lib/python3.6/dist-packages (from selenium) (1.24.3)\n",
            "Installing collected packages: selenium\n",
            "Successfully installed selenium-3.141.0\n",
            "Requirement already satisfied: bs4 in /usr/local/lib/python3.6/dist-packages (0.0.1)\n",
            "Requirement already satisfied: beautifulsoup4 in /usr/local/lib/python3.6/dist-packages (from bs4) (4.6.3)\n",
            "Requirement already satisfied: requests in /usr/local/lib/python3.6/dist-packages (2.21.0)\n",
            "Requirement already satisfied: certifi>=2017.4.17 in /usr/local/lib/python3.6/dist-packages (from requests) (2019.3.9)\n",
            "Requirement already satisfied: urllib3<1.25,>=1.21.1 in /usr/local/lib/python3.6/dist-packages (from requests) (1.24.3)\n",
            "Requirement already satisfied: idna<2.9,>=2.5 in /usr/local/lib/python3.6/dist-packages (from requests) (2.8)\n",
            "Requirement already satisfied: chardet<3.1.0,>=3.0.2 in /usr/local/lib/python3.6/dist-packages (from requests) (3.0.4)\n",
            "Collecting newspaper3k\n",
            "\u001b[?25l  Downloading https://files.pythonhosted.org/packages/d7/b9/51afecb35bb61b188a4b44868001de348a0e8134b4dfa00ffc191567c4b9/newspaper3k-0.2.8-py3-none-any.whl (211kB)\n",
            "\u001b[K     |████████████████████████████████| 215kB 4.8MB/s \n",
            "\u001b[?25hRequirement already satisfied: python-dateutil>=2.5.3 in /usr/local/lib/python3.6/dist-packages (from newspaper3k) (2.5.3)\n",
            "Requirement already satisfied: requests>=2.10.0 in /usr/local/lib/python3.6/dist-packages (from newspaper3k) (2.21.0)\n",
            "Collecting tinysegmenter==0.3 (from newspaper3k)\n",
            "  Downloading https://files.pythonhosted.org/packages/17/82/86982e4b6d16e4febc79c2a1d68ee3b707e8a020c5d2bc4af8052d0f136a/tinysegmenter-0.3.tar.gz\n",
            "Collecting cssselect>=0.9.2 (from newspaper3k)\n",
            "  Downloading https://files.pythonhosted.org/packages/7b/44/25b7283e50585f0b4156960691d951b05d061abf4a714078393e51929b30/cssselect-1.0.3-py2.py3-none-any.whl\n",
            "Collecting jieba3k>=0.35.1 (from newspaper3k)\n",
            "\u001b[?25l  Downloading https://files.pythonhosted.org/packages/a9/cb/2c8332bcdc14d33b0bedd18ae0a4981a069c3513e445120da3c3f23a8aaa/jieba3k-0.35.1.zip (7.4MB)\n",
            "\u001b[K     |████████████████████████████████| 7.4MB 39.7MB/s \n",
            "\u001b[?25hCollecting tldextract>=2.0.1 (from newspaper3k)\n",
            "\u001b[?25l  Downloading https://files.pythonhosted.org/packages/1e/90/18ac0e5340b6228c25cc8e79835c3811e7553b2b9ae87296dfeb62b7866d/tldextract-2.2.1-py2.py3-none-any.whl (48kB)\n",
            "\u001b[K     |████████████████████████████████| 51kB 20.3MB/s \n",
            "\u001b[?25hRequirement already satisfied: lxml>=3.6.0 in /usr/local/lib/python3.6/dist-packages (from newspaper3k) (4.2.6)\n",
            "Requirement already satisfied: Pillow>=3.3.0 in /usr/local/lib/python3.6/dist-packages (from newspaper3k) (4.3.0)\n",
            "Collecting feedparser>=5.2.1 (from newspaper3k)\n",
            "\u001b[?25l  Downloading https://files.pythonhosted.org/packages/91/d8/7d37fec71ff7c9dbcdd80d2b48bcdd86d6af502156fc93846fb0102cb2c4/feedparser-5.2.1.tar.bz2 (192kB)\n",
            "\u001b[K     |████████████████████████████████| 194kB 45.9MB/s \n",
            "\u001b[?25hCollecting feedfinder2>=0.0.4 (from newspaper3k)\n",
            "  Downloading https://files.pythonhosted.org/packages/35/82/1251fefec3bb4b03fd966c7e7f7a41c9fc2bb00d823a34c13f847fd61406/feedfinder2-0.0.4.tar.gz\n",
            "Requirement already satisfied: PyYAML>=3.11 in /usr/local/lib/python3.6/dist-packages (from newspaper3k) (3.13)\n",
            "Requirement already satisfied: nltk>=3.2.1 in /usr/local/lib/python3.6/dist-packages (from newspaper3k) (3.2.5)\n",
            "Requirement already satisfied: beautifulsoup4>=4.4.1 in /usr/local/lib/python3.6/dist-packages (from newspaper3k) (4.6.3)\n",
            "Requirement already satisfied: six>=1.5 in /usr/local/lib/python3.6/dist-packages (from python-dateutil>=2.5.3->newspaper3k) (1.12.0)\n",
            "Requirement already satisfied: certifi>=2017.4.17 in /usr/local/lib/python3.6/dist-packages (from requests>=2.10.0->newspaper3k) (2019.3.9)\n",
            "Requirement already satisfied: idna<2.9,>=2.5 in /usr/local/lib/python3.6/dist-packages (from requests>=2.10.0->newspaper3k) (2.8)\n",
            "Requirement already satisfied: urllib3<1.25,>=1.21.1 in /usr/local/lib/python3.6/dist-packages (from requests>=2.10.0->newspaper3k) (1.24.3)\n",
            "Requirement already satisfied: chardet<3.1.0,>=3.0.2 in /usr/local/lib/python3.6/dist-packages (from requests>=2.10.0->newspaper3k) (3.0.4)\n",
            "Requirement already satisfied: setuptools in /usr/local/lib/python3.6/dist-packages (from tldextract>=2.0.1->newspaper3k) (41.0.1)\n",
            "Collecting requests-file>=1.4 (from tldextract>=2.0.1->newspaper3k)\n",
            "  Downloading https://files.pythonhosted.org/packages/23/9c/6e63c23c39e53d3df41c77a3d05a49a42c4e1383a6d2a5e3233161b89dbf/requests_file-1.4.3-py2.py3-none-any.whl\n",
            "Requirement already satisfied: olefile in /usr/local/lib/python3.6/dist-packages (from Pillow>=3.3.0->newspaper3k) (0.46)\n",
            "Building wheels for collected packages: tinysegmenter, jieba3k, feedparser, feedfinder2\n",
            "  Building wheel for tinysegmenter (setup.py) ... \u001b[?25l\u001b[?25hdone\n",
            "  Stored in directory: /root/.cache/pip/wheels/81/2b/43/a02ede72324dd40cdd7ca53aad718c7710628e91b8b0dc0f02\n",
            "  Building wheel for jieba3k (setup.py) ... \u001b[?25l\u001b[?25hdone\n",
            "  Stored in directory: /root/.cache/pip/wheels/83/15/9c/a3f1f67e7f7181170ad37d32e503c35da20627c013f438ed34\n",
            "  Building wheel for feedparser (setup.py) ... \u001b[?25l\u001b[?25hdone\n",
            "  Stored in directory: /root/.cache/pip/wheels/8c/69/b7/f52763c41c5471df57703a0ef718a32a5e81ee35dcf6d4f97f\n",
            "  Building wheel for feedfinder2 (setup.py) ... \u001b[?25l\u001b[?25hdone\n",
            "  Stored in directory: /root/.cache/pip/wheels/de/03/ca/778e3a7a627e3d98836cc890e7cb40c7575424cfd3340f40ed\n",
            "Successfully built tinysegmenter jieba3k feedparser feedfinder2\n",
            "Installing collected packages: tinysegmenter, cssselect, jieba3k, requests-file, tldextract, feedparser, feedfinder2, newspaper3k\n",
            "Successfully installed cssselect-1.0.3 feedfinder2-0.0.4 feedparser-5.2.1 jieba3k-0.35.1 newspaper3k-0.2.8 requests-file-1.4.3 tinysegmenter-0.3 tldextract-2.2.1\n",
            "Requirement already satisfied: nltk in /usr/local/lib/python3.6/dist-packages (3.2.5)\n",
            "Requirement already satisfied: six in /usr/local/lib/python3.6/dist-packages (from nltk) (1.12.0)\n",
            "Requirement already satisfied: textblob in /usr/local/lib/python3.6/dist-packages (0.15.3)\n",
            "Requirement already satisfied: nltk>=3.1 in /usr/local/lib/python3.6/dist-packages (from textblob) (3.2.5)\n",
            "Requirement already satisfied: six in /usr/local/lib/python3.6/dist-packages (from nltk>=3.1->textblob) (1.12.0)\n",
            "Requirement already satisfied: sklearn in /usr/local/lib/python3.6/dist-packages (0.0)\n",
            "Requirement already satisfied: scikit-learn in /usr/local/lib/python3.6/dist-packages (from sklearn) (0.21.1)\n",
            "Requirement already satisfied: numpy>=1.11.0 in /usr/local/lib/python3.6/dist-packages (from scikit-learn->sklearn) (1.16.3)\n",
            "Requirement already satisfied: joblib>=0.11 in /usr/local/lib/python3.6/dist-packages (from scikit-learn->sklearn) (0.12.5)\n",
            "Requirement already satisfied: scipy>=0.17.0 in /usr/local/lib/python3.6/dist-packages (from scikit-learn->sklearn) (1.3.0)\n"
          ],
          "name": "stdout"
        }
      ]
    },
    {
      "cell_type": "code",
      "metadata": {
        "id": "qxunY1me2GPM",
        "colab_type": "code",
        "colab": {}
      },
      "source": [
        "from selenium.webdriver.chrome.options import Options # enables options in web browser\n",
        "from selenium import webdriver # web-based automation tool for Python\n",
        "from newspaper import Article # Article scraping & curation\n",
        "from bs4 import BeautifulSoup # Python library for pulling data out of HTML and XML files\n",
        "from requests import get # standard for making HTTP requests in Python\n",
        "import pandas as pd # library written for data manipulation and analysis\n",
        "import sys, time #  System-specific parameters and functions\n",
        "from dateutil import parser # data format handling\n",
        "import string # string functions\n",
        "import numpy as np#for complex mathematical calculations\n",
        "import seaborn as sns\n",
        "import nltk"
      ],
      "execution_count": 0,
      "outputs": []
    },
    {
      "cell_type": "code",
      "metadata": {
        "id": "-l9ztm9n1eFu",
        "colab_type": "code",
        "outputId": "371e6a91-4c70-4f28-96b9-78f7ed2135f7",
        "colab": {
          "base_uri": "https://localhost:8080/",
          "height": 34
        }
      },
      "source": [
        "#Checking for the total no. of pages\n",
        "\n",
        "url = 'https://timesofindia.indiatimes.com/topic/HIV/news'\n",
        "soup = BeautifulSoup(get(url).text, 'lxml')\n",
        "\n",
        "max_urls = ['https://timesofindia.indiatimes.com' + soup.select('.look ')[i]['href'] for i in range(len(soup.select('.look ')))]\n",
        "print(\"The total no. of pages is=\",len(max_urls))"
      ],
      "execution_count": 7,
      "outputs": [
        {
          "output_type": "stream",
          "text": [
            "The total no. of pages is= 15\n"
          ],
          "name": "stdout"
        }
      ]
    },
    {
      "cell_type": "markdown",
      "metadata": {
        "id": "O3TY3ldCJ-JY",
        "colab_type": "text"
      },
      "source": [
        "**Extracting all the features described above using a ` for` loop**"
      ]
    },
    {
      "cell_type": "code",
      "metadata": {
        "id": "hJvHzGtQ4CYY",
        "colab_type": "code",
        "outputId": "b2d8eb56-e2bd-45b0-d3b6-eca4cff4872c",
        "colab": {
          "base_uri": "https://localhost:8080/",
          "height": 298
        }
      },
      "source": [
        "#Creating empty lists to save all the features\n",
        "headlines, dates, authors, news, urls = [], [], [], [], []\n",
        "\n",
        "#Extracting all the Headlines, dates and the urls of the articles\n",
        "for index in max_urls:\n",
        "    soup = BeautifulSoup(get(index).text, 'lxml')\n",
        "\n",
        "    # Extracts the Headlines\n",
        "    try:\n",
        "        headline = [soup.select('span.title')[i].text.strip() for i in range(len(soup.select('span.title')))]\n",
        "        print(headline)\n",
        "        headlines.extend(headline)\n",
        "    except:\n",
        "        headlines.extend(None)\n",
        "\n",
        "    # Extracts the published dates\n",
        "    try:\n",
        "        pub_date = [str(parser.parse(soup.select('span.meta')[0].text)).split()[0] for i in range(len(soup.select('span.meta')))]\n",
        "        dates.extend(pub_date)\n",
        "    except:\n",
        "        dates.extend(None)\n",
        "\n",
        "    # Extracts the urls\n",
        "    try:\n",
        "        source = ['https://timesofindia.indiatimes.com' + soup.select('.content')[i].a['href'] for i in range(len(soup.select('span.meta')))]\n",
        "        urls.extend(source)\n",
        "    except:\n",
        "        urls.extend(None)\n",
        "\n",
        "   "
      ],
      "execution_count": 8,
      "outputs": [
        {
          "output_type": "stream",
          "text": [
            "['The IPS officer who ensured that elections in Kolhapur were peaceful', 'Air raids kill 12 civilians in jihadist-held Syrian town: Monitor', 'New HIV infections reduce by 37% in Rajasthan', 'Pakistan police arrest doctor after 90 infected by HIV syringe', 'Head of embattled UNAIDS to leave post immediately', 'Madras high court sets free HIV+ man convicted for fraud', 'Advocacy event held for HIV patients', 'Accused of injecting wife with HIV, Pune doctor attempts suicide', 'HIV positive pregnant woman hangs self', 'I told my boyfriend I was HIV positive and this happened...', 'Pay attention to these 7 very common HIV symptoms in women', 'No. of pregnant women testing HIV+ dips; still over 600 this year', 'Busted:5 HIV AIDS myths', 'Diagnosed with HIV, Army jawan hangs self in cantonment', 'Transfusion of HIV blood: Panel seeks time till January 9 to give report', 'HIV+ve girl child: Committee conducts inquiry at government hospitals', 'Parents of HIV+ve kid refuse treatment at government hospital in Coimbatore', 'HIV+ teacher set for election duty', 'Myths and taboos related to AIDS', 'Mumbai: Free HIV tests at six railway stations for a week from Dec 1']\n",
            "['Adolescent school students to be made aware of HIV-AIDS', 'Madurai: Woman injected with HIV+ blood now faces social stigma', 'Gujarat fifth in HIV deaths in country', 'Woman who was given HIV+ blood gives birth to girl', 'HIV care: Karnataka bags top spot', 'Youths urged to spread information on HIV/AIDS', 'Health ministry implements HIV AIDS Act 2017: All you need to know', 'HIV blood tranfusion: Tamil Nadu govt assures action against officials', 'Ganjam pitches for HIV test before marriage', 'Autopsy performed on HIV+ve donor’s body at GRH', 'Madras HC directs to videograph HIV+ve donor’s autopsy', 'HIV +ve Tamil Nadu teen who attempted suicide dies', 'When meds don’t heal: HIV+ kids fight daily war with side-effects', 'Another woman claims she got HIV-infected blood', 'Another woman says she got HIV from donor blood', 'Cannes 2019: Priyanka Chopra dons an elegant white outfit for a screening of a documentary on HIV', 'HIV case: Five-member panel begins inquiry in Virudhunagar', 'Pregnant woman turns HIV positive after blood transfusion', 'Pregnant woman contracts HIV after blood transfusion in TN', \"Insurers can't deny cover for HIV+ patients, says IRDAI\"]\n",
            "[\"Mumbai's civic hospital doctors operate on HIV-TB patient\", 'Man weds woman concealing HIV infection, booked', 'Maharashtra tops in HIV-related deaths in 2018-2019', 'Kolhapurkars participate in Yuva Marathon', 'Man attacks niece born with HIV for sleeping in his house', 'Minor contracts HIV after surgery', 'In wrong report, AIIMS Rishikesh tells man he is HIV+, fined Rs 60,000', 'HIV postive man keeps it secret, booked after wife’s plaint', 'AIDS drugs prevent sexual transmission of HIV in gay men', 'Hong Kong scientists say new research points to \"functional cure\" for HIV', 'Treatment prevents sexual HIV transmission among gay men: Study', 'GMCH gets HIV viral load testing machine', 'After brief delay, Mysuru gets its quota of anti-HIV drug', 'Activists oppose Johnson & Johnson drug donation', 'People come to aid of HIV-positive patient', 'Dip in HIV-infected pregnant women in Madurai: Collector', 'Citizens urged to get tested for HIV', 'Fight HIV, target the sections at risk', 'People show there are no full stops after HIV/AIDS', 'Armed with a positive attitude, HIV-infected youths chase dreams']\n",
            "['Women, children with HIV narrate ordeal at city event', 'World Aids Day: Ambala Jail provides treatment to HIV+ve inmates', 'Number of HIV cases increasing among young: Expert', 'Served persons with HIV, AIDS for decade, woman now fights for life', 'Steep increase in HIV/AIDS infection among Tamil Nadu youth', 'Blood supply takes a hit in Bengal as poll fever hots up', 'Viruses ‘hack’ molecular biological system', 'Panjab University team donates stationery among kids with HIV/AIDS', '‘Rising CO2 levels leading to zinc deficiency in diet’', 'Docs use HIV to cure kids with rare immunity disorder', 'Cops to check fitness of buses taking students on school picnic', 'Many essential drugs priced much higher than manufacturing cost: WHO', 'Took to crime to fund treatment, claims snatcher', 'Not approaching politics as a star: Urmila Matondkar', 'HIV patient claims Bengaluru hospital denied treatment', 'Aurangabad woman claims she is HIV+, staves off rape', 'HIV+ man cleared of killing son he thought was infected too', 'Viral load testing to treat people living with HIV soon', 'Viral load testing to treat people living with HIV soon', 'Viral load testing to treat people living with HIV soon']\n",
            "['Woman given HIV-infected blood to join government job today', \"'Supreme Court verdict on 377 was a victory, but there is a lot more to do'\", 'US performs first organ transplant from HIV donor', 'Over 100 HIV patients brought back to ART', 'HIV+ woman denied surgery at Kolkata hospital, says son', 'Indore: Jolt to TB-free India mission, 12,000 tested positive in a year', 'Highway police urge eway authorities to plug potholes and check accidents', 'Blood mix up: Man stops kid from visiting HIV-infected wife', 'Court allows elder daughter of HIV infected woman to stay with her', 'Sonagachhi survey gives hope in fight against AIDS', 'Six Jind jail inmates found HIV+ve', 'People with HIV speak out against discrimination', 'Thane among top 10 in Maharashtra in TB care, states report', 'Baby of woman given HIV infected blood tests negative', 'India sees major reductions in HIV infections: UN report', 'CMCH not source of HIV infection for two-year-old child, says hospital dean', 'HIV case: Coimbatore hospital checks files, records', 'Chandigarh: AIDS Control Society ties up with Department of Forest and Wild life to create awareness', 'HC seeks response from state government on funds allotted to AIDS control society', '14 years on, Bombay high court gives HIV+ve man Coast Guard job back']\n",
            "['Give LGBTI free gender transition services in government hospitals: Experts', 'Treat HIV students with care, educationists get lesson', 'Five underprivileged girls felicitated', 'Telangana: Qualified doctors to oversee all vaccination drives in state', 'HIV +ve man sentenced for life for raping daughter', 'No vaccines for swine flu as deaths, cases surge', 'Mumbai gets 1st community-run HIV clinic for gay men, sex workers', '‘Poison’ charge invoked against HIV+ accused', 'Kerala: Pre-marital sex leads to AIDS, says textbook', 'Transfusion horror: Blood sample of baby sent for HIV test', 'Private drug de-addiction centres to have HIV testing', 'Pre-marital check-up a must, say Kolkata doctors', 'At Delhi mall, transgenders say with pride they’re Born This Way', 'U’khand saw 2600% rise in HIV positive cases in 15 yrs', 'Mainstream political parties, separatists flay ban on Jamaat', \"Set up database of 'sexploitation' victims: Panel\", 'Pune police tells people to alert cops on bags left unattended', 'Probe indicts several staff for HIV+ blood transfusion', '‘Proactive’ strategy against externment order violators', 'Brush with reality: The true colours of Indian farmers']\n",
            "['Discrimination of HIV+ patient: NGO files complaint', 'Infant turns HIV+ve after hospitalisation in Tamil Nadu', 'Man misdiagnosed with HIV sues hospital, receives 1 lakh in compensation', 'HIV-positive woman in labour denied admission at UP govt hospital', 'Telangana: Revised pension scheme to raise govt expenses by 100%', 'GMC reveals identity of HIV+ man, kin in trauma', 'Ensure confidentiality while dealing with HIV cases, says adviser Manoj Parida', 'Ensure confidentiality while dealing with HIV cases, says adviser Manoj Parida', 'Queer carnival 2019 ended on a gay note in the city', 'Ranthambore hotels stare at mass cancellation of bookings', 'Kerala: HIV positive man awarded life term for raping daughter', 'Matrimony site for HIV-positive people launched at IIM-A', \"Here's how fungus can impair the immune system\", 'Income support scheme: Farmers urge government to do away with ‘agents’', 'Delhi in grip of swine flu; 103 fresh cases reported on Thursday: Official', 'MVM students learn about HIV-AIDS', 'MVM students learn about HIV-AIDS', 'Experts to spread HIV awareness', 'Vertical transmission of HIV from moms to babies is nil at tertiary govt hospitals', 'Smoke billows from LPG truck, mishap averted']\n",
            "['Relief for HIV patients: They can now take home 3 months’ drugs', 'Movies kidnap you, books free your mind, says Life of Pi author', 'Free travel for specially abled in buses soon', 'HIV case: PIL seeks revamp of TNSACS', 'Mixed response to anti-trafficking bill', 'HIV positive man arrested for sexually assaulting nine-year-old', 'HIV positive woman lodges complaint against KMCH', 'Drug resistance among top threats: WHO', 'HIV-infected woman given 3 cents of land', 'HIV+ve woman dies denied permission in hospital', 'In 7 years, HIV cases in India dropped by 27%: UN report', 'Prince Gohil to address International AIDS Conference', 'NMC to provide free bus pass to HIV patients', 'Ghaziabad: Woman prisoner dies of breast cancer', 'TN woman who was transfused with HIV positive blood gives birth to baby girl', 'Morari Bapu donates funds for welfare of sex workers', 'Indian-origin doctor embroiled in healthcare fraud in US freed on record $7 million bond', \"World has become 'dramatically healthier' in 20 years: Melinda Gates\", 'Women’s panel: No aid for HIV patient', \"'Zero HIV centre' opened for transgender people\"]\n",
            "['HIV+ve man, 2 daughters end lives in Kushinagar district', '‘Zero HIV surveillance centre’ opened for transgender people', '70-year-old Baruipur woman undergoes eastern India’s first stool transplant', '22 inmates at Pilibhit district jail test positive for HIV', 'Putting the fun in funerals', 'Activists urge Shabana not to fly kites for centenary celebrations of Kaifi Azmi', 'HIV+ inmate dies, kin accuse jail of negligence', 'Ignou to open study centres in 11 major jails in Odisha', 'Terminal Decline of Goa Tourism', 'Islamabad seeks ex-envoy Hussain Haqqani’s extradition from US', 'PIL in Madras high court seeks removal of TN AIDS control society staff who don’t have proper qualification', 'Postmortem performed on body of HIV positive blood donor in TN after HC clarification', 'Madhya Pradesh’s first virology lab to be inaugurated on Saturday', 'Transgender woman spreads AIDS awareness', 'HIV, TB cases dip among vulnerable sections', 'Death of HIV positive blood donor in TN: Two experts from outside Madurai district to participate in postmortem', '‘Important to know your status via HIV test’', 'Controlling HIV a social duty: Minister', '500 new HIV cases reported in Uttarakhand this year', 'Health minister Vijayabaskar must resign: PMK youth wing president Anbumani Ramdoss']\n",
            "['Goa govt to set centre in excellence in HIV care', 'Transfusion of HIV positive blood: PMK demands resignation of TN health minister', 'Manipur government for HIV tests before marriage', '‘HIV patients fail to follow up on therapy’', 'College students told about hygiene', 'HIV+ women, widow to get dairy booths in Rajasthan', 'Transfusion of HIV positive blood to pregnant TN woman: Donor dies after consuming poison', 'HIV-infected woman given three cents of land, Rs 2 lakh by Tamil Nadu government', 'Health officials hold surprise check at three blood banks in Trichy, find no flaws', \"International Women's Day 2018: HIV+ woman who’s spreading positivity\", 'Madras high court asks TN govt to file report on transfusion of HIV positive blood to pregnant woman', 'Woman who contracted HIV via blood transfusion to get best treatment', 'Now, death penalty for sex assault on minors', 'Three-day life skill training programme for children of HIV-infected parents in Kerala', '‘Donor ignoring ICTC summons being probed’', 'HC, NHRC take suo motu cognizance', 'Help starts pouring in for HIV-positive youths', 'Tamil Nadu violates its own policy on blood safety', 'HIV patients celebrate festival with enthusiasm', 'Government knew donor was HIV+ve in 2016, failed to inform him']\n",
            "['Samantha turns into a true Santa for HIV-affected kids', 'Chandigarh: NSS camp begins at KBDAV', 'Aurobindo gets approval for HIV drug', 'Seven doctors, woman held for participating in rave party', 'WHO felicitates Dr Swarup Sarkar for his contribution to public health', \"'HIV is a sin that needs to be tackled by God's rule'\", 'MLA opens renovated Jyothis centre at Kozhikode Govt Medical College', 'US Senate passes bill to avert shutdown', 'Ambulance driver’s humane touch', 'Prison inmates to be screened for HIV, TB', 'In 2018’s first trimester, 1 HIV+ person detected per day', 'HIV more prevalent in 15-24 age group, data reveals', 'Patna: Met office forecasts drop in temperature', 'Transsexual artists showcase their talents', '2 rescued girls to SEAL it with a kiss at weddings this weekend', \"'Every fourth sexually active person in UP has not heard of HIV-AIDS'\", 'Morab villagers begin to refill lake with canal water', 'Jail authorities, ART centre pass the buck', 'Lack of funds restricting MSM project', 'Various events mark AMC foundation day']\n",
            "['Laurus Labs receives tentative FDA nod for HIV drug', 'Journalists think reporting good news is propaganda or PR, says Harvard professor Steven Pinker', 'Scared villagers drain 36-acre lake after HIV+ woman drowns in it', 'HIV positive cases decline in Vizianagaram: Govt data', 'Karnataka villagers drain lake after HIV+ woman drowns in it', 'HIV positive Gujarati man working to fight deadly virus', 'Health officials urge youths to use 1097 helpline number to stay abreast about HIV', 'Centre for excellence in HIV care will be set up by December 2019: Vishwajit Rane', 'Need change of mindset about sex to fight AIDS menace: NGO', 'On AIDS Day, street plays & rallies in Bhopal', 'World AIDS Day 2018: Chennai college students to take oath to not discriminate people living with HIV', 'Play based on World AIDS Day at Sector 17', 'Play based on World AIDS Day at Sector 17', 'How this HIV-infected MP man gives hope to others', 'Mediations help in AIDS fight', 'Woman claims husband gave her HIV through saline', \"Indian banks now target Mallya's Indian Empress superyacht in bid to get back Rs 10,000 crore\", '‘Don’t advertise HIV-positive status, write ‘universal precaution’ instead’', 'AIDS centre struggles to get patients’ kin tested', '‘11 blood units found HIV-infected in ’17’']\n",
            "['Alcohol claimed 30 lakh lives across world in 2016: Nitish Kumar', 'Docs: With preventive tablets handy, youths giving condoms a miss', 'Bike rally to spread awareness on HIV', \"3 children die while 'playing with bomb' in Arunachal\", 'Condom-less sex popular thanks to pre-exposure drugs: Doctors', 'Sudden surge reported in H1N1 cases this month', 'Now, project for women drug users', 'Mystery cases of children testing HIV+ in Tamil Nadu rise', 'Awareness programme for adolescents', 'Man held for rape; victim HIV+', 'Zika scare: MP violates blood donation norms', '50-bed facility for HIV positive people in Bihar', 'Insurers cannot deny cover for HIV-positive patients', 'Children’s home guard not guilty of sodomising HIV+ boy', 'Tamarind seeds has antiviral properties and can potentially be used to develop antiviral medication for chikungunya', 'Tamarind seeds has antiviral properties and can potentially be used to develop antiviral medication for chikungunya', 'Health activists raise concerns over IP provisions at RCEP', 'Excise team seizes cancer painkiller', 'Coordinators for organ retrieval units at Government Medical College, Mayo soon', '8% of TB patients in Karnataka are HIV positive, third highest in India']\n",
            "['HIV positive man gets 10 years in jail for raping stepdaughter', \"Snatchers' den under VIP Road median divider stumps cops\", 'Bid to molest a woman sleeping outside her house', 'PG student wins big at national-level event', 'Woman contracts HIV after blood transfusion, Madras HC seeks report', 'HIV+ donor who infected woman tries to kill self', 'Gang selling fake blood busted, 5 held', 'HIV pulled them down, love gave hope', 'Rehana Fathima is no pilgrim', 'HIV spread declining, but not all states show progress', 'Karnataka has third highest number of HIV patients', 'Karnataka has third highest number of HIV patients', 'Karnataka has third highest number of HIV patients', 'Karnataka has third highest number of HIV patients', 'A blue pill is stopping HIV like never before, study shows', 'Ruts, waterlogging & gravel mar a pleasant drive on Wanowrie Marg', 'Audacity of crime caught Delhi Police totally by surprise', 'Smoke detected at Bagri market in Kolkata', 'An HIV-positive dream hits house hurdle in Kolkata', 'Modern humans inherited viral defences from Neanderthals']\n",
            "['‘Govt must extend facilities to LGBTQ’', 'Careers out of curiosity', 'Police probe to fix role of railway authorities, others', 'Soft skill training for Pune police control room staffers', 'Fatehpur’s ‘HIV village’ has seen no fresh case in 5 years', 'Prisoners to undergo HIV test in state', 'HIV vaccine comes closer to reality', '2 patients allege Davanagere hospital issued false HIV-positive reports, file plaints', 'HIV people with positive attitude', 'Contest of one-min films aims to tackle HIV/AIDS stigma', 'State joins forces with private players to eliminate TB', 'HIV-affected man poisons two daughters to death, kills self', 'Stigma of HIV makes people quit UP villages', \"Social science institutes don't attract funds easily: Tiss director\", 'HIV scare puts quacks under lens', 'HIV-affected man poisons two daughters to death, kills self', 'Man with HIV kills two daughters, attempts suicide in TN', 'Per capita alcohol consumption more than doubled in India between 2005-16: WHO', 'Tiny, portable device can quickly detect cancer', 'India eyes 100% switch from disposable to reuse prevention syringes by 2020']\n"
          ],
          "name": "stdout"
        }
      ]
    },
    {
      "cell_type": "markdown",
      "metadata": {
        "id": "k0IgnNpwOodm",
        "colab_type": "text"
      },
      "source": [
        "Now, we check how many unique values are present in the `dates` list, total values(No. of articles)"
      ]
    },
    {
      "cell_type": "code",
      "metadata": {
        "id": "KVSaOgMGPE8Z",
        "colab_type": "code",
        "outputId": "1699d394-e02b-4e26-da17-708db2461300",
        "colab": {
          "base_uri": "https://localhost:8080/",
          "height": 89
        }
      },
      "source": [
        "print(set(dates))\n",
        "print(\"No. articles=\", len(dates))\n",
        "print(type(dates[0]))"
      ],
      "execution_count": 9,
      "outputs": [
        {
          "output_type": "stream",
          "text": [
            "{'2018-08-30', '2018-11-04', '2018-12-26', '2019-04-05', '2019-03-12', '2019-01-22', '2018-08-08', '2019-02-02', '2018-10-05', '2018-11-30', '2018-07-15', '2019-05-14', '2018-12-02', '2019-05-25', '2018-11-27'}\n",
            "No. articles= 300\n",
            "<class 'str'>\n"
          ],
          "name": "stdout"
        }
      ]
    },
    {
      "cell_type": "markdown",
      "metadata": {
        "id": "ZWcTjuReEab2",
        "colab_type": "text"
      },
      "source": [
        "**Since, we only want all those articles, out of these 300, that were published in the year 2018**\n",
        "We know that all the dates are strings, so we can easily compare the first four characters(i.e., thet=year)"
      ]
    },
    {
      "cell_type": "code",
      "metadata": {
        "id": "gvLiBuTkEasL",
        "colab_type": "code",
        "outputId": "feab351a-2c77-414e-9d41-fcbfd546f2cf",
        "colab": {
          "base_uri": "https://localhost:8080/",
          "height": 34
        }
      },
      "source": [
        "#creating variables for storing the 2018 features\n",
        "new_dates=[]\n",
        "new_headlines=[]\n",
        "new_urls=[]\n",
        "\n",
        "l=len(dates)\n",
        "#loop for checking the year and saving those corresponding features elsewhere\n",
        "for i in range(l):\n",
        "  if dates[i][:4]=='2018':\n",
        "    new_dates.append(dates[i])\n",
        "    new_headlines.append(headlines[i])\n",
        "    new_urls.append(urls[i])\n",
        "dates, headlines, urls=new_dates, new_headlines, new_urls\n",
        "\n",
        "#deleting the other lists\n",
        "del(new_dates)\n",
        "del(new_headlines)\n",
        "del(new_urls)\n",
        "\n",
        "print(\"Now, only \",len(dates),\" articles remain, that were actually published in 2018\")"
      ],
      "execution_count": 10,
      "outputs": [
        {
          "output_type": "stream",
          "text": [
            "Now, only  180  articles remain, that were actually published in 2018\n"
          ],
          "name": "stdout"
        }
      ]
    },
    {
      "cell_type": "markdown",
      "metadata": {
        "id": "2GlZTM-9lx4d",
        "colab_type": "text"
      },
      "source": [
        "I'll only be choosing the first 150 articles from these 200, as it is taking a very large amount of time to scrape articles beyong the number 150, as the website suspected our attempts."
      ]
    },
    {
      "cell_type": "code",
      "metadata": {
        "id": "E2-jvaRglyEr",
        "colab_type": "code",
        "colab": {}
      },
      "source": [
        "dates=dates[:150]\n",
        "headlines=headlines[:150]\n",
        "urls=urls[:150]"
      ],
      "execution_count": 0,
      "outputs": []
    },
    {
      "cell_type": "markdown",
      "metadata": {
        "id": "0mgVtMLYR5Kv",
        "colab_type": "text"
      },
      "source": [
        "Now we know that, in total, 200 articles remain, that were actually published in 2018 by The Times of India, about HIV\n",
        "\n",
        "**Next we extract all the remaining features from the website**"
      ]
    },
    {
      "cell_type": "code",
      "metadata": {
        "id": "P2u3kq1BOp65",
        "colab_type": "code",
        "colab": {
          "base_uri": "https://localhost:8080/",
          "height": 3542
        },
        "outputId": "03ff904a-5355-4e96-a898-0c026bc19c3f"
      },
      "source": [
        "c=0\n",
        "for index in urls:\n",
        "    try:\n",
        "        # Parse the url to NewsPlease\n",
        "        soup = BeautifulSoup(get(index).text, 'lxml')\n",
        "        article = Article(index)\n",
        "        article.download()\n",
        "        article.parse()\n",
        "        \n",
        "        # Extracts the Authors\n",
        "        try:\n",
        "            auth=article.authors[0]\n",
        "            print(auth)\n",
        "            authors.append(auth)\n",
        "        except:\n",
        "            authors.append(None)\n",
        "            \n",
        "            \n",
        "        # Extracts the news articles\n",
        "        try:\n",
        "            news_article = ''.join(i for i in ' '.join(soup.select_one('._3WlLe').text.split()) if i in string.printable)\n",
        "            c+=1\n",
        "            print(c)\n",
        "            news.append(news_article)\n",
        "        except:\n",
        "            news.append(None)\n",
        "                        \n",
        "    except:\n",
        "        news.append(None)\n",
        "        authors.append(None)\n"
      ],
      "execution_count": 12,
      "outputs": [
        {
          "output_type": "stream",
          "text": [
            "Tnn\n",
            "1\n",
            "2\n",
            "3\n",
            "4\n",
            "5\n",
            "6\n",
            "7\n",
            "Tnn\n",
            "8\n",
            "9\n",
            "Tnn\n",
            "10\n",
            "11\n",
            "Tnn\n",
            "12\n",
            "Pti\n",
            "13\n",
            "14\n",
            "Tnn\n",
            "15\n",
            "16\n",
            "17\n",
            "18\n",
            "19\n",
            "Tnn\n",
            "20\n",
            "21\n",
            "Ei Samay\n",
            "22\n",
            "23\n",
            "24\n",
            "25\n",
            "Tnn\n",
            "26\n",
            "27\n",
            "28\n",
            "Tnn\n",
            "29\n",
            "30\n",
            "Pti\n",
            "31\n",
            "Farzana Patowari\n",
            "32\n",
            "33\n",
            "34\n",
            "Tnn\n",
            "35\n",
            "36\n",
            "Shobita Dhar\n",
            "37\n",
            "Tnn\n",
            "38\n",
            "39\n",
            "Tnn\n",
            "40\n",
            "Tnn\n",
            "41\n",
            "42\n",
            "Tnn\n",
            "43\n",
            "Tnn\n",
            "44\n",
            "45\n",
            "Tnn\n",
            "46\n",
            "47\n",
            "Pti\n",
            "48\n",
            "49\n",
            "50\n",
            "Pti\n",
            "51\n",
            "Tnn\n",
            "52\n",
            "Tnn\n",
            "53\n",
            "54\n",
            "Tnn\n",
            "55\n",
            "56\n",
            "57\n",
            "Ketaki Desai\n",
            "58\n",
            "Tnn\n",
            "59\n",
            "Hemanta Pradhan\n",
            "60\n",
            "Ians\n",
            "61\n",
            "62\n",
            "63\n",
            "64\n",
            "65\n",
            "66\n",
            "67\n",
            "68\n",
            "Tnn\n",
            "69\n",
            "Tnn\n",
            "70\n",
            "Tnn\n",
            "71\n",
            "72\n",
            "73\n",
            "Tnn\n",
            "74\n",
            "75\n",
            "Tnn\n",
            "76\n",
            "Tnn\n",
            "77\n",
            "78\n",
            "Tnn\n",
            "79\n",
            "80\n",
            "Tnn\n",
            "81\n",
            "82\n",
            "Tnn\n",
            "83\n",
            "84\n",
            "85\n",
            "Tnn\n",
            "86\n",
            "Tnn\n",
            "87\n",
            "88\n",
            "89\n",
            "Updated\n",
            "90\n",
            "Tnn\n",
            "91\n",
            "92\n",
            "Swati Rathor\n",
            "Pti\n",
            "93\n",
            "Timesofindia.Com\n",
            "94\n",
            "95\n",
            "96\n",
            "Pti\n",
            "97\n",
            "98\n",
            "Tnn\n",
            "99\n",
            "100\n",
            "101\n",
            "Tnn\n",
            "102\n",
            "Tnn\n",
            "103\n",
            "Tnn\n",
            "104\n",
            "105\n",
            "106\n",
            "107\n",
            "108\n",
            "Tnn\n",
            "109\n",
            "Tnn\n",
            "110\n",
            "111\n",
            "Tnn\n",
            "112\n",
            "Tnn\n",
            "113\n",
            "114\n",
            "115\n",
            "Tnn\n",
            "116\n",
            "117\n",
            "Tnn\n",
            "118\n",
            "119\n",
            "120\n",
            "121\n",
            "M Allirajan\n",
            "Tnn\n",
            "122\n",
            "Manash Pratim Gohain\n",
            "123\n",
            "Rupali Mukherjee\n",
            "Tnn\n",
            "124\n",
            "125\n",
            "126\n",
            "127\n",
            "Tnn\n",
            "128\n",
            "Tnn\n",
            "129\n",
            "130\n",
            "Pti\n",
            "131\n",
            "Tnn\n",
            "132\n",
            "Tnn\n",
            "133\n",
            "134\n",
            "Updated\n",
            "135\n",
            "136\n"
          ],
          "name": "stdout"
        }
      ]
    },
    {
      "cell_type": "markdown",
      "metadata": {
        "id": "qnagnoCTNeGu",
        "colab_type": "text"
      },
      "source": [
        "**Now combining all the above extracted features in a DataFrame using `pandas`**"
      ]
    },
    {
      "cell_type": "code",
      "metadata": {
        "id": "nDkNqwEXNqGo",
        "colab_type": "code",
        "outputId": "e09f1c81-4bc4-4c65-9d3e-e81bc8e84b42",
        "colab": {
          "base_uri": "https://localhost:8080/",
          "height": 139
        }
      },
      "source": [
        "df=pd.DataFrame({'Headlines': headlines,\n",
        "                 'Authors' : authors,\n",
        "                 'Article' : news,\n",
        "                 'Published_Dates' : dates,\n",
        "                 'Source_URLs' : urls\n",
        "                })\n",
        "print(len(df))\n",
        "#Checking for any missing values in the Dataframe\n",
        "print(df.isna().sum())"
      ],
      "execution_count": 13,
      "outputs": [
        {
          "output_type": "stream",
          "text": [
            "150\n",
            "Headlines           0\n",
            "Authors            83\n",
            "Article            14\n",
            "Published_Dates     0\n",
            "Source_URLs         0\n",
            "dtype: int64\n"
          ],
          "name": "stdout"
        }
      ]
    },
    {
      "cell_type": "markdown",
      "metadata": {
        "id": "kurLMQuDnaOM",
        "colab_type": "text"
      },
      "source": [
        "We see here that the` 'Authors'` column has many missing valus. So, we simply go ahead and delete it.\n",
        "Also, after that we delete all the rows that have missing values(which are only present in the `'Articles`' column)"
      ]
    },
    {
      "cell_type": "code",
      "metadata": {
        "id": "OQY61j40n2wQ",
        "colab_type": "code",
        "outputId": "80a037a1-16df-460c-ff92-fa10a4d09cd7",
        "colab": {
          "base_uri": "https://localhost:8080/",
          "height": 34
        }
      },
      "source": [
        "#Dropping the 'Authors' column\n",
        "df=df.drop(columns=['Authors'])\n",
        "\n",
        "#Now also dropping all the other rows with empty values\n",
        "df=df.dropna()\n",
        "df.shape"
      ],
      "execution_count": 14,
      "outputs": [
        {
          "output_type": "execute_result",
          "data": {
            "text/plain": [
              "(136, 4)"
            ]
          },
          "metadata": {
            "tags": []
          },
          "execution_count": 14
        }
      ]
    },
    {
      "cell_type": "markdown",
      "metadata": {
        "id": "sKkE-yT4pGy5",
        "colab_type": "text"
      },
      "source": [
        "# **Preliminary Text Analysis**\n",
        "\n",
        "Finally, we have all the data about the articles that we need for our next part, which is the analysis. We  will do the following:\n",
        "\n",
        "\n",
        "\n",
        "*   word count\n",
        "*   numerics count\n",
        "*   uppercase words count\n",
        "*   stop words count\n",
        "*   rare words count\n",
        "*   Average word length\n",
        "*   Character count\n",
        "\n",
        "We will do these for each of the articles and create a new column for each of these values for their corresponding columns.\n",
        "\n",
        "\n"
      ]
    },
    {
      "cell_type": "code",
      "metadata": {
        "id": "JJq8BCUkpofL",
        "colab_type": "code",
        "outputId": "19fb8e97-1cd5-4c34-c6ef-769759f03fe0",
        "colab": {
          "base_uri": "https://localhost:8080/",
          "height": 173
        }
      },
      "source": [
        "\n",
        "#Firstly we will do some exploration of the text\n",
        "\n",
        "# 1. Counting the number of words in each article\n",
        "df['word_count'] = df['Article'].apply(lambda x: len(str(x).split(\" \")))\n",
        "df['word_count'].describe()"
      ],
      "execution_count": 15,
      "outputs": [
        {
          "output_type": "execute_result",
          "data": {
            "text/plain": [
              "count    136.000000\n",
              "mean     423.176471\n",
              "std      156.368789\n",
              "min      144.000000\n",
              "25%      297.750000\n",
              "50%      401.000000\n",
              "75%      504.250000\n",
              "max      959.000000\n",
              "Name: word_count, dtype: float64"
            ]
          },
          "metadata": {
            "tags": []
          },
          "execution_count": 15
        }
      ]
    },
    {
      "cell_type": "markdown",
      "metadata": {
        "id": "5g3I-VZMrcAO",
        "colab_type": "text"
      },
      "source": [
        "From this, we get to know that the average length of an article is about 419 words. The word count ranges from 145 words to 959 words.\n",
        "\n",
        "Now, plotting the word count in a s=density plot:"
      ]
    },
    {
      "cell_type": "code",
      "metadata": {
        "id": "XyZBb9oRsJvZ",
        "colab_type": "code",
        "outputId": "432ad5bc-f0af-4117-842a-4119fb6b8af3",
        "colab": {
          "base_uri": "https://localhost:8080/",
          "height": 301
        }
      },
      "source": [
        "\n",
        "sns.distplot(df['word_count'], hist=False, kde=True, \n",
        "             bins=int(180/5), color = 'darkblue', \n",
        "             hist_kws={'edgecolor':'black'},\n",
        "             kde_kws={'linewidth': 4})"
      ],
      "execution_count": 18,
      "outputs": [
        {
          "output_type": "execute_result",
          "data": {
            "text/plain": [
              "<matplotlib.axes._subplots.AxesSubplot at 0x7f0210127e48>"
            ]
          },
          "metadata": {
            "tags": []
          },
          "execution_count": 18
        },
        {
          "output_type": "display_data",
          "data": {
            "image/png": "[encoded data removed]",
            "text/plain": [
              "<Figure size 432x288 with 1 Axes>"
            ]
          },
          "metadata": {
            "tags": []
          }
        }
      ]
    },
    {
      "cell_type": "markdown",
      "metadata": {
        "id": "0eNRyq-YttM6",
        "colab_type": "text"
      },
      "source": [
        "This density plot shows us that there are a few outliers that have word counts more than 800.\n",
        "It also shows us that the distribution is a litte skewed towards the left."
      ]
    },
    {
      "cell_type": "code",
      "metadata": {
        "id": "i_ZGNr14uW_W",
        "colab_type": "code",
        "outputId": "13e3a274-a969-45ef-e7c8-aa82c9d110a5",
        "colab": {
          "base_uri": "https://localhost:8080/",
          "height": 281
        }
      },
      "source": [
        "import matplotlib.pyplot as plt\n",
        "\n",
        "plt.boxplot(df['word_count'])\n",
        "plt.title(\"The word counts\")\n",
        "plt.show()"
      ],
      "execution_count": 19,
      "outputs": [
        {
          "output_type": "display_data",
          "data": {
            "image/png": "[encoded data removed]",
            "text/plain": [
              "<Figure size 432x288 with 1 Axes>"
            ]
          },
          "metadata": {
            "tags": []
          }
        }
      ]
    },
    {
      "cell_type": "markdown",
      "metadata": {
        "id": "Ruy218MUupYM",
        "colab_type": "text"
      },
      "source": [
        "This boxplot confirms both of aur observations from the density plot above.\n",
        "\n",
        "**Identifying the stopwords and the rare words**\n",
        "Stopwords are the most common words that occur"
      ]
    },
    {
      "cell_type": "code",
      "metadata": {
        "id": "R6WMk1CVvUTe",
        "colab_type": "code",
        "outputId": "3348fedf-f962-4b75-eba0-ac71d44830ba",
        "colab": {
          "base_uri": "https://localhost:8080/",
          "height": 434
        }
      },
      "source": [
        "stop_words = pd.Series(' '.join(df['Article']).split()).value_counts()[:10]\n",
        "rare_words = pd.Series(' '.join(df['Article']).split()).value_counts()[-10:]\n",
        "print(\"The top 10 stop words(most common words) are:\\n\", stop_words)\n",
        "print(\"The top 10 rare words(most uncommon words) are:\\n\", rare_words)"
      ],
      "execution_count": 20,
      "outputs": [
        {
          "output_type": "stream",
          "text": [
            "The top 10 stop words(most common words) are:\n",
            " the         2576\n",
            "results     2454\n",
            "election    2316\n",
            "of          1390\n",
            "to          1271\n",
            "and         1171\n",
            "in           979\n",
            "a            788\n",
            "for          642\n",
            "The          570\n",
            "dtype: int64\n",
            "The top 10 rare words(most uncommon words) are:\n",
            " Gerontology    1\n",
            "disrupting     1\n",
            "536            1\n",
            "neonatal       1\n",
            "criminals,     1\n",
            "reserved       1\n",
            "rupture        1\n",
            "Health.        1\n",
            "vote           1\n",
            "brazen         1\n",
            "dtype: int64\n"
          ],
          "name": "stdout"
        }
      ]
    },
    {
      "cell_type": "markdown",
      "metadata": {
        "id": "yzmBOTim9Utn",
        "colab_type": "text"
      },
      "source": [
        "Now doing the rest of the steps"
      ]
    },
    {
      "cell_type": "code",
      "metadata": {
        "id": "CCD-6Y5p9VFC",
        "colab_type": "code",
        "outputId": "4fadc01a-5e4d-4c3b-dac1-707df1019439",
        "colab": {
          "base_uri": "https://localhost:8080/",
          "height": 208
        }
      },
      "source": [
        "#No. of characters\n",
        "df['char_count']=df['Article'].str.len()\n",
        "\n",
        "#No. of numerics\n",
        "df['numerics']=df['Article'].apply(lambda x: len([x for x in x.split() if x.isdigit()]))\n",
        "\n",
        "#No. of uppercase words\n",
        "df['upper_case']=df['Article'].apply(lambda x: len([x for x in x.split() if x.isupper()]))\n",
        "\n",
        "#Average word length\n",
        "def avg_word(sentence):\n",
        "    words = sentence.split()\n",
        "    return (sum(len(word) for word in words)/len(words))\n",
        "df['avg_wlen']=df['Article'].apply(lambda x: avg_word(x))\n",
        "\n",
        "print(df.columns)\n",
        "print(df.head())"
      ],
      "execution_count": 22,
      "outputs": [
        {
          "output_type": "stream",
          "text": [
            "Index(['Headlines', 'Article', 'Published_Dates', 'Source_URLs', 'word_count',\n",
            "       'char_count', 'numerics', 'upper_case', 'avg_wlen'],\n",
            "      dtype='object')\n",
            "                                           Headlines  ...  avg_wlen\n",
            "0  Women, children with HIV narrate ordeal at cit...  ...  5.507143\n",
            "1  World Aids Day: Ambala Jail provides treatment...  ...  5.418000\n",
            "2  Number of HIV cases increasing among young: Ex...  ...  5.445378\n",
            "3  Served persons with HIV, AIDS for decade, woma...  ...  5.148620\n",
            "4  Steep increase in HIV/AIDS infection among Tam...  ...  5.153322\n",
            "\n",
            "[5 rows x 9 columns]\n"
          ],
          "name": "stdout"
        }
      ]
    },
    {
      "cell_type": "markdown",
      "metadata": {
        "id": "1SAcHS15xLRJ",
        "colab_type": "text"
      },
      "source": [
        "# **Text Pre-processing**\n",
        "\n",
        "---\n",
        "Next we will apply the following operations on this dataframe.\n",
        "\n",
        "\n",
        "*   Stopword removal\n",
        "*   Rare word removal\n",
        "*   Punctuation Removal\n",
        "*   Lowercasing\n",
        "*   Tokenization\n",
        "*   Lemmatization: converting all the words into their root word\n",
        "\n",
        "\n",
        "Note:- We won't be doing the Spelling Correction, because these are articles written by professionals, so we assume, that the last thing they will have is a spelling mistake. \n",
        "\n",
        "No we will be using the python library `nltk` and `textblob ` for these processes.\n",
        "\n",
        "**Stop word removal**\n",
        "\n",
        "Stop words create most of the noise in a text and have to be removed in order to gain interactive insights from the text data."
      ]
    },
    {
      "cell_type": "code",
      "metadata": {
        "id": "FXhaR4UKDAEn",
        "colab_type": "code",
        "colab": {
          "base_uri": "https://localhost:8080/",
          "height": 380
        },
        "outputId": "f2e99a52-c625-4bbf-cbce-887cf9d09b15"
      },
      "source": [
        "\n",
        "from textblob import TextBlob\n",
        "from textblob import Word\n",
        "\n",
        "#Stop word removal\n",
        "df['Article']=df['Article'].apply(lambda x: ' '.join([x for x in x.split() if x not in stop_words]))\n",
        "df.head()"
      ],
      "execution_count": 24,
      "outputs": [
        {
          "output_type": "execute_result",
          "data": {
            "text/html": [
              "<div>\n",
              "<style scoped>\n",
              "    .dataframe tbody tr th:only-of-type {\n",
              "        vertical-align: middle;\n",
              "    }\n",
              "\n",
              "    .dataframe tbody tr th {\n",
              "        vertical-align: top;\n",
              "    }\n",
              "\n",
              "    .dataframe thead th {\n",
              "        text-align: right;\n",
              "    }\n",
              "</style>\n",
              "<table border=\"1\" class=\"dataframe\">\n",
              "  <thead>\n",
              "    <tr style=\"text-align: right;\">\n",
              "      <th></th>\n",
              "      <th>Headlines</th>\n",
              "      <th>Article</th>\n",
              "      <th>Published_Dates</th>\n",
              "      <th>Source_URLs</th>\n",
              "      <th>word_count</th>\n",
              "      <th>char_count</th>\n",
              "      <th>numerics</th>\n",
              "      <th>upper_case</th>\n",
              "      <th>avg_wlen</th>\n",
              "    </tr>\n",
              "  </thead>\n",
              "  <tbody>\n",
              "    <tr>\n",
              "      <th>0</th>\n",
              "      <td>Women, children with HIV narrate ordeal at cit...</td>\n",
              "      <td>JAIPUR: More than 100 women children living wi...</td>\n",
              "      <td>2018-12-02</td>\n",
              "      <td>https://timesofindia.indiatimes.com/city/jaipu...</td>\n",
              "      <td>420</td>\n",
              "      <td>2732</td>\n",
              "      <td>1</td>\n",
              "      <td>19</td>\n",
              "      <td>5.507143</td>\n",
              "    </tr>\n",
              "    <tr>\n",
              "      <th>1</th>\n",
              "      <td>World Aids Day: Ambala Jail provides treatment...</td>\n",
              "      <td>AMBALA: 18 HIV+ve inmates Ambala Central Jail ...</td>\n",
              "      <td>2018-12-02</td>\n",
              "      <td>https://timesofindia.indiatimes.com/city/gurga...</td>\n",
              "      <td>500</td>\n",
              "      <td>3208</td>\n",
              "      <td>9</td>\n",
              "      <td>21</td>\n",
              "      <td>5.418000</td>\n",
              "    </tr>\n",
              "    <tr>\n",
              "      <th>2</th>\n",
              "      <td>Number of HIV cases increasing among young: Ex...</td>\n",
              "      <td>NAGPUR: While incidence HIV has reduced all ov...</td>\n",
              "      <td>2018-12-02</td>\n",
              "      <td>https://timesofindia.indiatimes.com/city/nagpu...</td>\n",
              "      <td>478</td>\n",
              "      <td>3069</td>\n",
              "      <td>2</td>\n",
              "      <td>20</td>\n",
              "      <td>5.445378</td>\n",
              "    </tr>\n",
              "    <tr>\n",
              "      <th>3</th>\n",
              "      <td>Served persons with HIV, AIDS for decade, woma...</td>\n",
              "      <td>CHANDIGARH: Thirty-six-yearold Pooja Thakur, w...</td>\n",
              "      <td>2018-12-02</td>\n",
              "      <td>https://timesofindia.indiatimes.com/city/chand...</td>\n",
              "      <td>471</td>\n",
              "      <td>2895</td>\n",
              "      <td>2</td>\n",
              "      <td>30</td>\n",
              "      <td>5.148620</td>\n",
              "    </tr>\n",
              "    <tr>\n",
              "      <th>4</th>\n",
              "      <td>Steep increase in HIV/AIDS infection among Tam...</td>\n",
              "      <td>CHENNAI: As government prepares observe Intern...</td>\n",
              "      <td>2018-12-02</td>\n",
              "      <td>https://timesofindia.indiatimes.com/city/chenn...</td>\n",
              "      <td>587</td>\n",
              "      <td>3611</td>\n",
              "      <td>16</td>\n",
              "      <td>20</td>\n",
              "      <td>5.153322</td>\n",
              "    </tr>\n",
              "  </tbody>\n",
              "</table>\n",
              "</div>"
            ],
            "text/plain": [
              "                                           Headlines  ...  avg_wlen\n",
              "0  Women, children with HIV narrate ordeal at cit...  ...  5.507143\n",
              "1  World Aids Day: Ambala Jail provides treatment...  ...  5.418000\n",
              "2  Number of HIV cases increasing among young: Ex...  ...  5.445378\n",
              "3  Served persons with HIV, AIDS for decade, woma...  ...  5.148620\n",
              "4  Steep increase in HIV/AIDS infection among Tam...  ...  5.153322\n",
              "\n",
              "[5 rows x 9 columns]"
            ]
          },
          "metadata": {
            "tags": []
          },
          "execution_count": 24
        }
      ]
    },
    {
      "cell_type": "markdown",
      "metadata": {
        "id": "pc5-Wv3NRubl",
        "colab_type": "text"
      },
      "source": [
        "**Rare word removal**"
      ]
    },
    {
      "cell_type": "code",
      "metadata": {
        "id": "Rk55HIYcRtGj",
        "colab_type": "code",
        "colab": {
          "base_uri": "https://localhost:8080/",
          "height": 380
        },
        "outputId": "0e1da051-0dba-4ac6-e0bc-6fab895281ee"
      },
      "source": [
        "df['Article']=df['Article'].apply(lambda x: ' '.join([x for x in x.split() if x not in rare_words]))\n",
        "df.head()"
      ],
      "execution_count": 25,
      "outputs": [
        {
          "output_type": "execute_result",
          "data": {
            "text/html": [
              "<div>\n",
              "<style scoped>\n",
              "    .dataframe tbody tr th:only-of-type {\n",
              "        vertical-align: middle;\n",
              "    }\n",
              "\n",
              "    .dataframe tbody tr th {\n",
              "        vertical-align: top;\n",
              "    }\n",
              "\n",
              "    .dataframe thead th {\n",
              "        text-align: right;\n",
              "    }\n",
              "</style>\n",
              "<table border=\"1\" class=\"dataframe\">\n",
              "  <thead>\n",
              "    <tr style=\"text-align: right;\">\n",
              "      <th></th>\n",
              "      <th>Headlines</th>\n",
              "      <th>Article</th>\n",
              "      <th>Published_Dates</th>\n",
              "      <th>Source_URLs</th>\n",
              "      <th>word_count</th>\n",
              "      <th>char_count</th>\n",
              "      <th>numerics</th>\n",
              "      <th>upper_case</th>\n",
              "      <th>avg_wlen</th>\n",
              "    </tr>\n",
              "  </thead>\n",
              "  <tbody>\n",
              "    <tr>\n",
              "      <th>0</th>\n",
              "      <td>Women, children with HIV narrate ordeal at cit...</td>\n",
              "      <td>JAIPUR: More than 100 women children living wi...</td>\n",
              "      <td>2018-12-02</td>\n",
              "      <td>https://timesofindia.indiatimes.com/city/jaipu...</td>\n",
              "      <td>420</td>\n",
              "      <td>2732</td>\n",
              "      <td>1</td>\n",
              "      <td>19</td>\n",
              "      <td>5.507143</td>\n",
              "    </tr>\n",
              "    <tr>\n",
              "      <th>1</th>\n",
              "      <td>World Aids Day: Ambala Jail provides treatment...</td>\n",
              "      <td>AMBALA: 18 HIV+ve inmates Ambala Central Jail ...</td>\n",
              "      <td>2018-12-02</td>\n",
              "      <td>https://timesofindia.indiatimes.com/city/gurga...</td>\n",
              "      <td>500</td>\n",
              "      <td>3208</td>\n",
              "      <td>9</td>\n",
              "      <td>21</td>\n",
              "      <td>5.418000</td>\n",
              "    </tr>\n",
              "    <tr>\n",
              "      <th>2</th>\n",
              "      <td>Number of HIV cases increasing among young: Ex...</td>\n",
              "      <td>NAGPUR: While incidence HIV has reduced all ov...</td>\n",
              "      <td>2018-12-02</td>\n",
              "      <td>https://timesofindia.indiatimes.com/city/nagpu...</td>\n",
              "      <td>478</td>\n",
              "      <td>3069</td>\n",
              "      <td>2</td>\n",
              "      <td>20</td>\n",
              "      <td>5.445378</td>\n",
              "    </tr>\n",
              "    <tr>\n",
              "      <th>3</th>\n",
              "      <td>Served persons with HIV, AIDS for decade, woma...</td>\n",
              "      <td>CHANDIGARH: Thirty-six-yearold Pooja Thakur, w...</td>\n",
              "      <td>2018-12-02</td>\n",
              "      <td>https://timesofindia.indiatimes.com/city/chand...</td>\n",
              "      <td>471</td>\n",
              "      <td>2895</td>\n",
              "      <td>2</td>\n",
              "      <td>30</td>\n",
              "      <td>5.148620</td>\n",
              "    </tr>\n",
              "    <tr>\n",
              "      <th>4</th>\n",
              "      <td>Steep increase in HIV/AIDS infection among Tam...</td>\n",
              "      <td>CHENNAI: As government prepares observe Intern...</td>\n",
              "      <td>2018-12-02</td>\n",
              "      <td>https://timesofindia.indiatimes.com/city/chenn...</td>\n",
              "      <td>587</td>\n",
              "      <td>3611</td>\n",
              "      <td>16</td>\n",
              "      <td>20</td>\n",
              "      <td>5.153322</td>\n",
              "    </tr>\n",
              "  </tbody>\n",
              "</table>\n",
              "</div>"
            ],
            "text/plain": [
              "                                           Headlines  ...  avg_wlen\n",
              "0  Women, children with HIV narrate ordeal at cit...  ...  5.507143\n",
              "1  World Aids Day: Ambala Jail provides treatment...  ...  5.418000\n",
              "2  Number of HIV cases increasing among young: Ex...  ...  5.445378\n",
              "3  Served persons with HIV, AIDS for decade, woma...  ...  5.148620\n",
              "4  Steep increase in HIV/AIDS infection among Tam...  ...  5.153322\n",
              "\n",
              "[5 rows x 9 columns]"
            ]
          },
          "metadata": {
            "tags": []
          },
          "execution_count": 25
        }
      ]
    },
    {
      "cell_type": "markdown",
      "metadata": {
        "id": "nbrpinjxSAJQ",
        "colab_type": "text"
      },
      "source": [
        "**Lowercasing**"
      ]
    },
    {
      "cell_type": "code",
      "metadata": {
        "id": "5tNGRJtIRtPn",
        "colab_type": "code",
        "colab": {
          "base_uri": "https://localhost:8080/",
          "height": 397
        },
        "outputId": "206bab09-0424-4675-adb8-3ae97bfb8bf9"
      },
      "source": [
        "df['Article']=df['Article'].apply(lambda x: x.lower())\n",
        "df.head()"
      ],
      "execution_count": 27,
      "outputs": [
        {
          "output_type": "execute_result",
          "data": {
            "text/html": [
              "<div>\n",
              "<style scoped>\n",
              "    .dataframe tbody tr th:only-of-type {\n",
              "        vertical-align: middle;\n",
              "    }\n",
              "\n",
              "    .dataframe tbody tr th {\n",
              "        vertical-align: top;\n",
              "    }\n",
              "\n",
              "    .dataframe thead th {\n",
              "        text-align: right;\n",
              "    }\n",
              "</style>\n",
              "<table border=\"1\" class=\"dataframe\">\n",
              "  <thead>\n",
              "    <tr style=\"text-align: right;\">\n",
              "      <th></th>\n",
              "      <th>Headlines</th>\n",
              "      <th>Article</th>\n",
              "      <th>Published_Dates</th>\n",
              "      <th>Source_URLs</th>\n",
              "      <th>word_count</th>\n",
              "      <th>char_count</th>\n",
              "      <th>numerics</th>\n",
              "      <th>upper_case</th>\n",
              "      <th>avg_wlen</th>\n",
              "    </tr>\n",
              "  </thead>\n",
              "  <tbody>\n",
              "    <tr>\n",
              "      <th>0</th>\n",
              "      <td>Women, children with HIV narrate ordeal at cit...</td>\n",
              "      <td>jaipur: more than 100 women children living wi...</td>\n",
              "      <td>2018-12-02</td>\n",
              "      <td>https://timesofindia.indiatimes.com/city/jaipu...</td>\n",
              "      <td>420</td>\n",
              "      <td>2732</td>\n",
              "      <td>1</td>\n",
              "      <td>19</td>\n",
              "      <td>5.507143</td>\n",
              "    </tr>\n",
              "    <tr>\n",
              "      <th>1</th>\n",
              "      <td>World Aids Day: Ambala Jail provides treatment...</td>\n",
              "      <td>ambala: 18 hiv+ve inmates ambala central jail ...</td>\n",
              "      <td>2018-12-02</td>\n",
              "      <td>https://timesofindia.indiatimes.com/city/gurga...</td>\n",
              "      <td>500</td>\n",
              "      <td>3208</td>\n",
              "      <td>9</td>\n",
              "      <td>21</td>\n",
              "      <td>5.418000</td>\n",
              "    </tr>\n",
              "    <tr>\n",
              "      <th>2</th>\n",
              "      <td>Number of HIV cases increasing among young: Ex...</td>\n",
              "      <td>nagpur: while incidence hiv has reduced all ov...</td>\n",
              "      <td>2018-12-02</td>\n",
              "      <td>https://timesofindia.indiatimes.com/city/nagpu...</td>\n",
              "      <td>478</td>\n",
              "      <td>3069</td>\n",
              "      <td>2</td>\n",
              "      <td>20</td>\n",
              "      <td>5.445378</td>\n",
              "    </tr>\n",
              "    <tr>\n",
              "      <th>3</th>\n",
              "      <td>Served persons with HIV, AIDS for decade, woma...</td>\n",
              "      <td>chandigarh: thirty-six-yearold pooja thakur, w...</td>\n",
              "      <td>2018-12-02</td>\n",
              "      <td>https://timesofindia.indiatimes.com/city/chand...</td>\n",
              "      <td>471</td>\n",
              "      <td>2895</td>\n",
              "      <td>2</td>\n",
              "      <td>30</td>\n",
              "      <td>5.148620</td>\n",
              "    </tr>\n",
              "    <tr>\n",
              "      <th>4</th>\n",
              "      <td>Steep increase in HIV/AIDS infection among Tam...</td>\n",
              "      <td>chennai: as government prepares observe intern...</td>\n",
              "      <td>2018-12-02</td>\n",
              "      <td>https://timesofindia.indiatimes.com/city/chenn...</td>\n",
              "      <td>587</td>\n",
              "      <td>3611</td>\n",
              "      <td>16</td>\n",
              "      <td>20</td>\n",
              "      <td>5.153322</td>\n",
              "    </tr>\n",
              "  </tbody>\n",
              "</table>\n",
              "</div>"
            ],
            "text/plain": [
              "                                           Headlines  ...  avg_wlen\n",
              "0  Women, children with HIV narrate ordeal at cit...  ...  5.507143\n",
              "1  World Aids Day: Ambala Jail provides treatment...  ...  5.418000\n",
              "2  Number of HIV cases increasing among young: Ex...  ...  5.445378\n",
              "3  Served persons with HIV, AIDS for decade, woma...  ...  5.148620\n",
              "4  Steep increase in HIV/AIDS infection among Tam...  ...  5.153322\n",
              "\n",
              "[5 rows x 9 columns]"
            ]
          },
          "metadata": {
            "tags": []
          },
          "execution_count": 27
        }
      ]
    },
    {
      "cell_type": "markdown",
      "metadata": {
        "id": "FyVHY9aMSGg8",
        "colab_type": "text"
      },
      "source": [
        "**Punctuation Removal**"
      ]
    },
    {
      "cell_type": "code",
      "metadata": {
        "id": "OujD2fhhRtYu",
        "colab_type": "code",
        "colab": {
          "base_uri": "https://localhost:8080/",
          "height": 397
        },
        "outputId": "878d3771-4155-40c3-8464-b957425f015d"
      },
      "source": [
        "df['Article']=df['Article'].str.replace('[{!@#$%()}]','')\n",
        "df.head()"
      ],
      "execution_count": 28,
      "outputs": [
        {
          "output_type": "execute_result",
          "data": {
            "text/html": [
              "<div>\n",
              "<style scoped>\n",
              "    .dataframe tbody tr th:only-of-type {\n",
              "        vertical-align: middle;\n",
              "    }\n",
              "\n",
              "    .dataframe tbody tr th {\n",
              "        vertical-align: top;\n",
              "    }\n",
              "\n",
              "    .dataframe thead th {\n",
              "        text-align: right;\n",
              "    }\n",
              "</style>\n",
              "<table border=\"1\" class=\"dataframe\">\n",
              "  <thead>\n",
              "    <tr style=\"text-align: right;\">\n",
              "      <th></th>\n",
              "      <th>Headlines</th>\n",
              "      <th>Article</th>\n",
              "      <th>Published_Dates</th>\n",
              "      <th>Source_URLs</th>\n",
              "      <th>word_count</th>\n",
              "      <th>char_count</th>\n",
              "      <th>numerics</th>\n",
              "      <th>upper_case</th>\n",
              "      <th>avg_wlen</th>\n",
              "    </tr>\n",
              "  </thead>\n",
              "  <tbody>\n",
              "    <tr>\n",
              "      <th>0</th>\n",
              "      <td>Women, children with HIV narrate ordeal at cit...</td>\n",
              "      <td>jaipur: more than 100 women children living wi...</td>\n",
              "      <td>2018-12-02</td>\n",
              "      <td>https://timesofindia.indiatimes.com/city/jaipu...</td>\n",
              "      <td>420</td>\n",
              "      <td>2732</td>\n",
              "      <td>1</td>\n",
              "      <td>19</td>\n",
              "      <td>5.507143</td>\n",
              "    </tr>\n",
              "    <tr>\n",
              "      <th>1</th>\n",
              "      <td>World Aids Day: Ambala Jail provides treatment...</td>\n",
              "      <td>ambala: 18 hiv+ve inmates ambala central jail ...</td>\n",
              "      <td>2018-12-02</td>\n",
              "      <td>https://timesofindia.indiatimes.com/city/gurga...</td>\n",
              "      <td>500</td>\n",
              "      <td>3208</td>\n",
              "      <td>9</td>\n",
              "      <td>21</td>\n",
              "      <td>5.418000</td>\n",
              "    </tr>\n",
              "    <tr>\n",
              "      <th>2</th>\n",
              "      <td>Number of HIV cases increasing among young: Ex...</td>\n",
              "      <td>nagpur: while incidence hiv has reduced all ov...</td>\n",
              "      <td>2018-12-02</td>\n",
              "      <td>https://timesofindia.indiatimes.com/city/nagpu...</td>\n",
              "      <td>478</td>\n",
              "      <td>3069</td>\n",
              "      <td>2</td>\n",
              "      <td>20</td>\n",
              "      <td>5.445378</td>\n",
              "    </tr>\n",
              "    <tr>\n",
              "      <th>3</th>\n",
              "      <td>Served persons with HIV, AIDS for decade, woma...</td>\n",
              "      <td>chandigarh: thirty-six-yearold pooja thakur, w...</td>\n",
              "      <td>2018-12-02</td>\n",
              "      <td>https://timesofindia.indiatimes.com/city/chand...</td>\n",
              "      <td>471</td>\n",
              "      <td>2895</td>\n",
              "      <td>2</td>\n",
              "      <td>30</td>\n",
              "      <td>5.148620</td>\n",
              "    </tr>\n",
              "    <tr>\n",
              "      <th>4</th>\n",
              "      <td>Steep increase in HIV/AIDS infection among Tam...</td>\n",
              "      <td>chennai: as government prepares observe intern...</td>\n",
              "      <td>2018-12-02</td>\n",
              "      <td>https://timesofindia.indiatimes.com/city/chenn...</td>\n",
              "      <td>587</td>\n",
              "      <td>3611</td>\n",
              "      <td>16</td>\n",
              "      <td>20</td>\n",
              "      <td>5.153322</td>\n",
              "    </tr>\n",
              "  </tbody>\n",
              "</table>\n",
              "</div>"
            ],
            "text/plain": [
              "                                           Headlines  ...  avg_wlen\n",
              "0  Women, children with HIV narrate ordeal at cit...  ...  5.507143\n",
              "1  World Aids Day: Ambala Jail provides treatment...  ...  5.418000\n",
              "2  Number of HIV cases increasing among young: Ex...  ...  5.445378\n",
              "3  Served persons with HIV, AIDS for decade, woma...  ...  5.148620\n",
              "4  Steep increase in HIV/AIDS infection among Tam...  ...  5.153322\n",
              "\n",
              "[5 rows x 9 columns]"
            ]
          },
          "metadata": {
            "tags": []
          },
          "execution_count": 28
        }
      ]
    },
    {
      "cell_type": "markdown",
      "metadata": {
        "id": "oAZPnGc0Xylj",
        "colab_type": "text"
      },
      "source": [
        "# **Advanced Processing**\n",
        "\n",
        "---\n",
        "Now well be doing some more advanced processing work with the articles, like:\n",
        "\n",
        "\n",
        "\n",
        "*   N-grams\n",
        "*   Term Frequency(TF)\n",
        "*   Inverse Document Frequency(IDF)\n",
        "*   Term Frequency-Inverse Document Frequency(TF-IDF)\n",
        "\n",
        "\n",
        "\n",
        "\n",
        "# **Visualizing the top 15 N-grams(Only Uni-grams, Bi-grams and Tri-grams)**\n",
        "\n",
        "We will visualize them using barplots with the help of Python's `seaborn` library.\n",
        "\n",
        "**Uni-grams**"
      ]
    },
    {
      "cell_type": "code",
      "metadata": {
        "id": "Qc9fIUtgjIn8",
        "colab_type": "code",
        "colab": {
          "base_uri": "https://localhost:8080/",
          "height": 382
        },
        "outputId": "04877217-d2b0-4586-e98e-ab8ad1250e3b"
      },
      "source": [
        "\n",
        "\n",
        "from sklearn.feature_extraction.text import CountVectorizer\n",
        "import re\n",
        "#Most frequently occuring words\n",
        "arr=list(df['Article'])\n",
        "\n",
        "def get_top_n_words(arr, n=None):\n",
        "    vec = CountVectorizer().fit(arr)\n",
        "    bag_of_words = vec.transform(arr)\n",
        "    sum_words = bag_of_words.sum(axis=0) \n",
        "    words_freq = [(word, sum_words[0, idx]) for word, idx in vec.vocabulary_.items()]\n",
        "    words_freq =sorted(words_freq, key = lambda x: x[1], reverse=True)\n",
        "    return words_freq[:n]\n",
        "  \n",
        "#Convert most freq words to dataframe for plotting bar plot\n",
        "top_words = get_top_n_words(arr, n=20)\n",
        "top_df = pd.DataFrame(top_words)\n",
        "top_df.columns=[\"uni-grams\", \"Freq\"]\n",
        "print(top_df)"
      ],
      "execution_count": 35,
      "outputs": [
        {
          "output_type": "stream",
          "text": [
            "   uni-grams  Freq\n",
            "0       that   445\n",
            "1        hiv   442\n",
            "2         is   428\n",
            "3       said   420\n",
            "4        lok   411\n",
            "5      sabha   411\n",
            "6        was   409\n",
            "7         on   406\n",
            "8    pradesh   331\n",
            "9       with   315\n",
            "10      from   281\n",
            "11        by   279\n",
            "12        at   276\n",
            "13        as   266\n",
            "14       are   264\n",
            "15      have   264\n",
            "16        he   245\n",
            "17        it   242\n",
            "18     blood   239\n",
            "19       has   222\n"
          ],
          "name": "stdout"
        }
      ]
    },
    {
      "cell_type": "code",
      "metadata": {
        "id": "c5luf7mGpVZa",
        "colab_type": "code",
        "colab": {
          "base_uri": "https://localhost:8080/",
          "height": 876
        },
        "outputId": "e498beee-35cd-4668-8544-3576cb2f2a6b"
      },
      "source": [
        "#Now visualizing the barplot\n",
        "sns.set(rc={'figure.figsize':(13,8)})\n",
        "g = sns.barplot(x=\"uni-grams\", y=\"Freq\", data=top_df)\n",
        "g.set_xticklabels(g.get_xticklabels(), rotation=30)"
      ],
      "execution_count": 36,
      "outputs": [
        {
          "output_type": "execute_result",
          "data": {
            "text/plain": [
              "[Text(0, 0, 'that'),\n",
              " Text(0, 0, 'hiv'),\n",
              " Text(0, 0, 'is'),\n",
              " Text(0, 0, 'said'),\n",
              " Text(0, 0, 'lok'),\n",
              " Text(0, 0, 'sabha'),\n",
              " Text(0, 0, 'was'),\n",
              " Text(0, 0, 'on'),\n",
              " Text(0, 0, 'pradesh'),\n",
              " Text(0, 0, 'with'),\n",
              " Text(0, 0, 'from'),\n",
              " Text(0, 0, 'by'),\n",
              " Text(0, 0, 'at'),\n",
              " Text(0, 0, 'as'),\n",
              " Text(0, 0, 'are'),\n",
              " Text(0, 0, 'have'),\n",
              " Text(0, 0, 'he'),\n",
              " Text(0, 0, 'it'),\n",
              " Text(0, 0, 'blood'),\n",
              " Text(0, 0, 'has')]"
            ]
          },
          "metadata": {
            "tags": []
          },
          "execution_count": 36
        },
        {
          "output_type": "display_data",
          "data": {
            "image/png": "[encoded data removed]",
            "text/plain": [
              "<Figure size 936x576 with 1 Axes>"
            ]
          },
          "metadata": {
            "tags": []
          }
        }
      ]
    },
    {
      "cell_type": "markdown",
      "metadata": {
        "id": "mLw4vxWhpe-k",
        "colab_type": "text"
      },
      "source": [
        "**Bi-grams**"
      ]
    },
    {
      "cell_type": "code",
      "metadata": {
        "id": "82umP-FUps8C",
        "colab_type": "code",
        "colab": {
          "base_uri": "https://localhost:8080/",
          "height": 1347
        },
        "outputId": "69ba3cf9-de6b-4473-d238-e125adb647c1"
      },
      "source": [
        "def get_top_n2_words(arr, n=None):\n",
        "    vec1 = CountVectorizer(ngram_range=(2,2),  \n",
        "            max_features=2000).fit(arr)\n",
        "    bag_of_words = vec1.transform(arr)\n",
        "    sum_words = bag_of_words.sum(axis=0) \n",
        "    words_freq = [(word, sum_words[0, idx]) for word, idx in     \n",
        "                  vec1.vocabulary_.items()]\n",
        "    words_freq =sorted(words_freq, key = lambda x: x[1], \n",
        "                reverse=True)\n",
        "    return words_freq[:n]\n",
        "top2_words = get_top_n2_words(arr, n=20)\n",
        "top2_df = pd.DataFrame(top2_words)\n",
        "top2_df.columns=[\"Bi-gram\", \"Freq\"]\n",
        "print(top2_df)\n",
        "\n",
        "#The barplot of the bi-grams\n",
        "sns.set(rc={'figure.figsize':(13,8)})\n",
        "h=sns.barplot(x=\"Bi-gram\", y=\"Freq\", data=top2_df)\n",
        "h.set_xticklabels(h.get_xticklabels(), rotation=45)"
      ],
      "execution_count": 38,
      "outputs": [
        {
          "output_type": "stream",
          "text": [
            "                          Bi-gram  Freq\n",
            "0                       lok sabha   411\n",
            "1                      india news   145\n",
            "2                     times india   136\n",
            "3                        news app   136\n",
            "4                      app latest   136\n",
            "5                  sabha election   136\n",
            "6                 election result   136\n",
            "7         2019telangana elections   136\n",
            "8            elections 2019odisha   136\n",
            "9     2019odisha 2019chhattisgarh   136\n",
            "10    2019chhattisgarh 2019punjab   136\n",
            "11     2019punjab 2019uttarakhand   136\n",
            "12  2019uttarakhand 2019karnataka   136\n",
            "13       2019karnataka 2019madhya   136\n",
            "14             2019madhya pradesh   136\n",
            "15           pradesh 2019himachal   136\n",
            "16           2019himachal pradesh   136\n",
            "17            pradesh 2019haryana   136\n",
            "18          2019haryana 2019delhi   136\n",
            "19      2019delhi 2019maharashtra   136\n"
          ],
          "name": "stdout"
        },
        {
          "output_type": "execute_result",
          "data": {
            "text/plain": [
              "[Text(0, 0, 'lok sabha'),\n",
              " Text(0, 0, 'india news'),\n",
              " Text(0, 0, 'times india'),\n",
              " Text(0, 0, 'news app'),\n",
              " Text(0, 0, 'app latest'),\n",
              " Text(0, 0, 'sabha election'),\n",
              " Text(0, 0, 'election result'),\n",
              " Text(0, 0, '2019telangana elections'),\n",
              " Text(0, 0, 'elections 2019odisha'),\n",
              " Text(0, 0, '2019odisha 2019chhattisgarh'),\n",
              " Text(0, 0, '2019chhattisgarh 2019punjab'),\n",
              " Text(0, 0, '2019punjab 2019uttarakhand'),\n",
              " Text(0, 0, '2019uttarakhand 2019karnataka'),\n",
              " Text(0, 0, '2019karnataka 2019madhya'),\n",
              " Text(0, 0, '2019madhya pradesh'),\n",
              " Text(0, 0, 'pradesh 2019himachal'),\n",
              " Text(0, 0, '2019himachal pradesh'),\n",
              " Text(0, 0, 'pradesh 2019haryana'),\n",
              " Text(0, 0, '2019haryana 2019delhi'),\n",
              " Text(0, 0, '2019delhi 2019maharashtra')]"
            ]
          },
          "metadata": {
            "tags": []
          },
          "execution_count": 38
        },
        {
          "output_type": "display_data",
          "data": {
            "image/png": "[encoded data removed]",
            "text/plain": [
              "<Figure size 936x576 with 1 Axes>"
            ]
          },
          "metadata": {
            "tags": []
          }
        }
      ]
    },
    {
      "cell_type": "markdown",
      "metadata": {
        "id": "EqXA1gWAp7j5",
        "colab_type": "text"
      },
      "source": [
        "**Tri-grams**"
      ]
    },
    {
      "cell_type": "code",
      "metadata": {
        "id": "v1h_6DGDp-aC",
        "colab_type": "code",
        "colab": {
          "base_uri": "https://localhost:8080/",
          "height": 1406
        },
        "outputId": "35f1eea3-ae40-4dff-c750-045488d43d5f"
      },
      "source": [
        "#Most frequently occuring Tri-grams\n",
        "def get_top_n3_words(corpus, n=None):\n",
        "    vec1 = CountVectorizer(ngram_range=(3,3), \n",
        "           max_features=2000).fit(arr)\n",
        "    bag_of_words = vec1.transform(arr)\n",
        "    sum_words = bag_of_words.sum(axis=0) \n",
        "    words_freq = [(word, sum_words[0, idx]) for word, idx in     \n",
        "                  vec1.vocabulary_.items()]\n",
        "    words_freq =sorted(words_freq, key = lambda x: x[1], \n",
        "                reverse=True)\n",
        "    return words_freq[:n]\n",
        "top3_words = get_top_n3_words(arr, n=20)\n",
        "top3_df = pd.DataFrame(top3_words)\n",
        "top3_df.columns=[\"Tri-gram\", \"Freq\"]\n",
        "print(top3_df)\n",
        "\n",
        "#The barplot\n",
        "sns.set(rc={'figure.figsize':(13,8)})\n",
        "j=sns.barplot(x=\"Tri-gram\", y=\"Freq\", data=top3_df)\n",
        "j.set_xticklabels(j.get_xticklabels(), rotation=45)"
      ],
      "execution_count": 39,
      "outputs": [
        {
          "output_type": "stream",
          "text": [
            "                                       Tri-gram  Freq\n",
            "0                              times india news   136\n",
            "1                                india news app   136\n",
            "2                               news app latest   136\n",
            "3                            lok sabha election   136\n",
            "4                         sabha election result   136\n",
            "5            2019telangana elections 2019odisha   136\n",
            "6         elections 2019odisha 2019chhattisgarh   136\n",
            "7        2019odisha 2019chhattisgarh 2019punjab   136\n",
            "8   2019chhattisgarh 2019punjab 2019uttarakhand   136\n",
            "9      2019punjab 2019uttarakhand 2019karnataka   136\n",
            "10     2019uttarakhand 2019karnataka 2019madhya   136\n",
            "11             2019karnataka 2019madhya pradesh   136\n",
            "12              2019madhya pradesh 2019himachal   136\n",
            "13                 pradesh 2019himachal pradesh   136\n",
            "14             2019himachal pradesh 2019haryana   136\n",
            "15                pradesh 2019haryana 2019delhi   136\n",
            "16        2019haryana 2019delhi 2019maharashtra   136\n",
            "17         2019delhi 2019maharashtra 2019kerala   136\n",
            "18         2019maharashtra 2019kerala 2019bihar   136\n",
            "19             2019kerala 2019bihar 2019gujarat   136\n"
          ],
          "name": "stdout"
        },
        {
          "output_type": "execute_result",
          "data": {
            "text/plain": [
              "[Text(0, 0, 'times india news'),\n",
              " Text(0, 0, 'india news app'),\n",
              " Text(0, 0, 'news app latest'),\n",
              " Text(0, 0, 'lok sabha election'),\n",
              " Text(0, 0, 'sabha election result'),\n",
              " Text(0, 0, '2019telangana elections 2019odisha'),\n",
              " Text(0, 0, 'elections 2019odisha 2019chhattisgarh'),\n",
              " Text(0, 0, '2019odisha 2019chhattisgarh 2019punjab'),\n",
              " Text(0, 0, '2019chhattisgarh 2019punjab 2019uttarakhand'),\n",
              " Text(0, 0, '2019punjab 2019uttarakhand 2019karnataka'),\n",
              " Text(0, 0, '2019uttarakhand 2019karnataka 2019madhya'),\n",
              " Text(0, 0, '2019karnataka 2019madhya pradesh'),\n",
              " Text(0, 0, '2019madhya pradesh 2019himachal'),\n",
              " Text(0, 0, 'pradesh 2019himachal pradesh'),\n",
              " Text(0, 0, '2019himachal pradesh 2019haryana'),\n",
              " Text(0, 0, 'pradesh 2019haryana 2019delhi'),\n",
              " Text(0, 0, '2019haryana 2019delhi 2019maharashtra'),\n",
              " Text(0, 0, '2019delhi 2019maharashtra 2019kerala'),\n",
              " Text(0, 0, '2019maharashtra 2019kerala 2019bihar'),\n",
              " Text(0, 0, '2019kerala 2019bihar 2019gujarat')]"
            ]
          },
          "metadata": {
            "tags": []
          },
          "execution_count": 39
        },
        {
          "output_type": "display_data",
          "data": {
            "image/png": "[encoded data removed]",
            "text/plain": [
              "<Figure size 936x576 with 1 Axes>"
            ]
          },
          "metadata": {
            "tags": []
          }
        }
      ]
    }
  ]
}